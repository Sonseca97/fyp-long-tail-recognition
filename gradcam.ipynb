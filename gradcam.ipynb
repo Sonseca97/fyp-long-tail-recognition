{
 "metadata": {
  "language_info": {
   "codemirror_mode": {
    "name": "ipython",
    "version": 3
   },
   "file_extension": ".py",
   "mimetype": "text/x-python",
   "name": "python",
   "nbconvert_exporter": "python",
   "pygments_lexer": "ipython3",
   "version": "3.6.12"
  },
  "orig_nbformat": 2,
  "kernelspec": {
   "name": "python3612jvsc74a57bd09b4085feb5da96439d115631eb10afdb5f4ddf0ee47869b9600572e4221b2cac",
   "display_name": "Python 3.6.12 64-bit ('py36': conda)"
  }
 },
 "nbformat": 4,
 "nbformat_minor": 2,
 "cells": [
  {
   "cell_type": "code",
   "execution_count": 1,
   "metadata": {},
   "outputs": [],
   "source": [
    "import os\n",
    "import numpy as np\n",
    "from matplotlib import pyplot as plt\n",
    "from PIL import Image\n",
    "from utils import *\n",
    "import torch\n",
    "from torch import nn\n",
    "from torchvision import models, transforms\n",
    "import pickle\n",
    "import pandas as pd\n",
    "from tqdm import tqdm\n",
    "tqdm.pandas()"
   ]
  },
  {
   "cell_type": "code",
   "execution_count": 2,
   "metadata": {},
   "outputs": [],
   "source": [
    "df = pd.read_csv(\"/home/lizhaochen/fyp/fyp-long-tail-recognition/analysis/label.csv\")\n",
    "tail = df[df.label_count<=20]['Unnamed: 0'].tolist()\n",
    "median = df[(df.label_count>20)&(df.label_count<100)]['Unnamed: 0'].tolist()\n",
    "head = df[df.label_count>=100]['Unnamed: 0'].tolist()"
   ]
  },
  {
   "cell_type": "code",
   "execution_count": 3,
   "metadata": {},
   "outputs": [
    {
     "output_type": "stream",
     "name": "stdout",
     "text": [
      "Loading Scratch ResNet 50 Feature Model.\n",
      "No Pretrained Weights For Feature Model.\n",
      "Loading Dot Product Classifier.\n",
      "Random initialized classifier weights.\n"
     ]
    }
   ],
   "source": [
    "feat_model_path = './models/ResNet50Feature.py'\n",
    "cls_model_path = './models/DotProductClassifier.py'\n",
    "feat_dim = 2048\n",
    "feat_model = source_import(feat_model_path).create_model()\n",
    "cls_model = source_import(cls_model_path).create_model(feat_dim=feat_dim)"
   ]
  },
  {
   "cell_type": "code",
   "execution_count": 4,
   "metadata": {},
   "outputs": [],
   "source": [
    "model_path = '/home/lizhaochen/fyp/fyp-long-tail-recognition/logs/ImageNet_LT/stage1/ImageNet_LT_90_coslrres50/ImageNet_LT_90_coslrres50.pth'"
   ]
  },
  {
   "cell_type": "code",
   "execution_count": 5,
   "metadata": {},
   "outputs": [
    {
     "output_type": "execute_result",
     "data": {
      "text/plain": [
       "<All keys matched successfully>"
      ]
     },
     "metadata": {},
     "execution_count": 5
    }
   ],
   "source": [
    "checkpoint = torch.load(model_path, map_location=torch.device('cpu'))\n",
    "model_state = checkpoint['state_dict_best']\n",
    "weights = model_state['feat_model']\n",
    "weights = {k.replace('module.',''): weights[k] for k in weights}\n",
    "feat_model.load_state_dict(weights)\n",
    "weights = model_state['classifier']\n",
    "weights = {k.replace('module.',''): weights[k] for k in weights}\n",
    "cls_model.load_state_dict(weights)"
   ]
  },
  {
   "cell_type": "code",
   "execution_count": 6,
   "metadata": {},
   "outputs": [],
   "source": [
    "read_tensor = transforms.Compose([\n",
    "    lambda x: Image.open(x),\n",
    "    lambda x: x.convert('RGB'),\n",
    "    transforms.Resize(256),\n",
    "    transforms.CenterCrop(224),\n",
    "    transforms.ToTensor(),\n",
    "    transforms.Normalize(mean=[0.485, 0.456, 0.406],\n",
    "                          std=[0.229, 0.224, 0.225]),\n",
    "    lambda x: torch.unsqueeze(x, 0)\n",
    "])"
   ]
  },
  {
   "cell_type": "code",
   "execution_count": null,
   "metadata": {},
   "outputs": [],
   "source": [
    "crop_img = transforms.Compose([\n",
    "    transforms.Resize(256),\n",
    "    transforms.CenterCrop(224)\n",
    "])"
   ]
  },
  {
   "cell_type": "code",
   "execution_count": 7,
   "metadata": {},
   "outputs": [],
   "source": [
    "class Flatten(nn.Module):\n",
    "    \"\"\"One layer module that flattens its input.\"\"\"\n",
    "    def __init__(self):\n",
    "        super(Flatten, self).__init__()\n",
    "    def forward(self, x):\n",
    "        return x.view(x.size(0), -1)"
   ]
  },
  {
   "cell_type": "code",
   "execution_count": 8,
   "metadata": {},
   "outputs": [],
   "source": [
    "feat_model_final = nn.Sequential(*list(feat_model.children())[:-2])\n",
    "cls_model_final = nn.Sequential(*(list(feat_model.children())[-2:-1] + [Flatten()] + list(cls_model.children())))\n",
    "feat_model = feat_model.eval()\n",
    "cls_model = cls_model.eval()"
   ]
  },
  {
   "cell_type": "code",
   "execution_count": 9,
   "metadata": {},
   "outputs": [],
   "source": [
    "def get_class_name(c):\n",
    "    labels = source_import(\"imagenet_dict.py\").class_dict\n",
    "    return labels[int(c)].split(',')[0]"
   ]
  },
  {
   "cell_type": "code",
   "execution_count": 10,
   "metadata": {},
   "outputs": [],
   "source": [
    "def GradCAM(img, c, features_fn, classifier_fn):\n",
    "    feats = features_fn(img)\n",
    "    _, N, H, W = feats.size()\n",
    "    out = classifier_fn(feats)\n",
    "    c_score = out[0, c]\n",
    "    grads = torch.autograd.grad(c_score, feats)\n",
    "    w = grads[0][0].mean(-1).mean(-1)\n",
    "    sal = torch.matmul(w, feats.view(N, H*W))\n",
    "    sal = sal.view(H, W).cpu().detach().numpy()\n",
    "    sal = np.maximum(sal, 0)\n",
    "    return sal"
   ]
  },
  {
   "cell_type": "code",
   "execution_count": 22,
   "metadata": {},
   "outputs": [
    {
     "output_type": "stream",
     "name": "stderr",
     "text": [
      "1049it [03:33,  4.91it/s]\n"
     ]
    }
   ],
   "source": [
    "with open(\"/home/lizhaochen/fyp/fyp-long-tail-recognition/logs/ImageNet_LT/stage1/ImageNet_LT_90_coslrres50/ImageNet_LT_90_coslrres50_path_test.pkl\", \"rb\") as f:\n",
    "    image_pths = list(pickle.load(f))\n",
    "with open(\"/home/lizhaochen/fyp/fyp-long-tail-recognition/logs/ImageNet_LT/stage1/ImageNet_LT_90_coslrres50/ImageNet_LT_90_coslrres50_preds_softmax.pkl\", \"rb\") as f:\n",
    "    preds = list(pickle.load(f))\n",
    "# plt.figure(figsize=(15, 5))\n",
    "plot_count = 0\n",
    "correct = 0\n",
    "for idx, path in tqdm(enumerate(image_pths)):\n",
    "    correct_flag=False\n",
    "    if int(idx/50) not in median:\n",
    "        continue\n",
    "    class_name = get_class_name(int(idx)/50)\n",
    "    plot_count += 1\n",
    "    img_tensor = read_tensor(path)\n",
    "    logits = cls_model(feat_model(img_tensor)[0])\n",
    "    pp, cc = torch.topk(nn.Softmax(dim=1)(logits), 3)\n",
    "    plt.figure(figsize=(15, 5))\n",
    "    for i, (p, c) in enumerate(zip(pp[0], cc[0])):\n",
    "        plt.subplot(1, 3, i+1)\n",
    "        sal = GradCAM(img_tensor, c, feat_model_final, cls_model_final)\n",
    "        img = crop_img(Image.open(path))\n",
    "        sal = Image.fromarray(sal)\n",
    "        sal = sal.resize(img.size, resample=Image.LINEAR)\n",
    "        plt.title('{}: {:.1f}%'.format(get_class_name(c), 100*float(p)))\n",
    "        if get_class_name(c) == class_name and i == 0:\n",
    "            correct_flag = True\n",
    "        plt.axis('off')\n",
    "        plt.imshow(img)\n",
    "        plt.imshow(np.array(sal), alpha=0.5, cmap='jet')\n",
    "\n",
    "    # plt.tight_layout()\n",
    "    dirname = \"gradcam_images/{}_{}_{}\".format(class_name, int(idx/50),'median')\n",
    "    if not os.path.exists(dirname):\n",
    "        os.mkdir(dirname)\n",
    "    plt.savefig(os.path.join(dirname, \"{}_{}.jpeg\".format(idx, str(correct_flag))))\n",
    "    plt.clf()\n",
    "    plt.cla()\n",
    "    plt.close()\n",
    "    if plot_count == 500:\n",
    "        break\n",
    "    "
   ]
  },
  {
   "cell_type": "code",
   "execution_count": null,
   "metadata": {},
   "outputs": [],
   "source": []
  }
 ]
}